{
 "cells": [
  {
   "cell_type": "markdown",
   "metadata": {},
   "source": [
    "# Working with Known JSON Schemas\n",
    "\n",
    "## Introduction\n",
    "You've started taking a look at JSON files and you'll continue to explore how to navigate and traverse these files. One common use case of json files will be when you are connecting to various websites through their established APIs to retrieve data from them. With these, you are typically given a schema for how the data is structured and then will use this knowledge to retrieve pertinant information. In this lecture, you'll take a look at the response from the NY Times API.\n",
    "\n",
    "## Objectives\n",
    "You will be able to:\n",
    "* Read JSON Documentation Schemas and translate into code\n",
    "* Extract data from known json schemas\n",
    "* Write data to predefined JSON schemas\n",
    "\n",
    "## Reading a JSON Schema\n",
    "\n",
    "Here's the JSON schema provided for a section of the NY Times API:\n",
    "<img src=\"images/schema_overview.png\" width=\"400\">\n",
    "\n",
    "or a more detailed view (truncated):\n",
    "\n",
    "<img src=\"images/schema_detailed.png\" width=\"500\">\n",
    "\n"
   ]
  },
  {
   "cell_type": "markdown",
   "metadata": {},
   "source": [
    "You can see that the master structure is a dictionary and has a key named 'response'. This is also a dictionary and has two keys: 'data' and 'meta'. As you continue to examine the schema hierarchy, you'll notice the vast majority in this case are dictionaries. "
   ]
  },
  {
   "cell_type": "markdown",
   "metadata": {},
   "source": [
    "## Loading the Data File\n",
    "\n",
    "As you saw before, let's start by importing this data from file. Here's how to open the file and load its contents."
   ]
  },
  {
   "cell_type": "code",
   "execution_count": 1,
   "metadata": {},
   "outputs": [],
   "source": [
    "import json"
   ]
  },
  {
   "cell_type": "code",
   "execution_count": 2,
   "metadata": {},
   "outputs": [],
   "source": [
    "f = open('ny_times_response.json', \"r\")\n",
    "data = json.load(f)"
   ]
  },
  {
   "cell_type": "code",
   "execution_count": 3,
   "metadata": {},
   "outputs": [
    {
     "name": "stdout",
     "output_type": "stream",
     "text": [
      "<class 'dict'>\n",
      "dict_keys(['status', 'copyright', 'response'])\n"
     ]
    }
   ],
   "source": [
    "print(type(data))\n",
    "print(data.keys())"
   ]
  },
  {
   "cell_type": "markdown",
   "metadata": {},
   "source": [
    "You should see that there are two additional keys 'status' and 'copyright' which were not shown in the schema documentation."
   ]
  },
  {
   "cell_type": "markdown",
   "metadata": {},
   "source": [
    "## Loading Specific Data\n",
    "\n",
    "Looking at the schema, you might be interested in retrieving a specific piece of data, such as the articles' headlines. Notice that this is a key under **'docs'**, which is under 'response'. So the schema is roughly: **data['response']['docs']['headline']**. While this is close to the code you'll use to extract headlines, something is a bit off. Notice that if you look closely at the schema outline, that the 'docs' subheading is actually a list. Each item within this list should be a dictionary with the keys shown above, but that is an important distinction. Breaking it into two steps you have:"
   ]
  },
  {
   "cell_type": "code",
   "execution_count": 7,
   "metadata": {},
   "outputs": [
    {
     "name": "stdout",
     "output_type": "stream",
     "text": [
      "<class 'list'> 9\n"
     ]
    }
   ],
   "source": [
    "docs = data['response']['docs']\n",
    "print(type(docs), len(docs))"
   ]
  },
  {
   "cell_type": "code",
   "execution_count": 4,
   "metadata": {},
   "outputs": [
    {
     "name": "stdout",
     "output_type": "stream",
     "text": [
      "<class 'dict'> 2\n"
     ]
    }
   ],
   "source": [
    "ztest = data['response']\n",
    "print(type(ztest), len(ztest))"
   ]
  },
  {
   "cell_type": "code",
   "execution_count": 5,
   "metadata": {},
   "outputs": [
    {
     "ename": "TypeError",
     "evalue": "list indices must be integers or slices, not str",
     "output_type": "error",
     "traceback": [
      "\u001b[0;31m\u001b[0m",
      "\u001b[0;31mTypeError\u001b[0mTraceback (most recent call last)",
      "\u001b[0;32m<ipython-input-5-ecf519e81c20>\u001b[0m in \u001b[0;36m<module>\u001b[0;34m()\u001b[0m\n\u001b[0;32m----> 1\u001b[0;31m \u001b[0mzztest\u001b[0m \u001b[0;34m=\u001b[0m \u001b[0mdata\u001b[0m\u001b[0;34m[\u001b[0m\u001b[0;34m'response'\u001b[0m\u001b[0;34m]\u001b[0m\u001b[0;34m[\u001b[0m\u001b[0;34m'docs'\u001b[0m\u001b[0;34m]\u001b[0m\u001b[0;34m[\u001b[0m\u001b[0;34m'headline'\u001b[0m\u001b[0;34m]\u001b[0m\u001b[0;34m\u001b[0m\u001b[0m\n\u001b[0m\u001b[1;32m      2\u001b[0m \u001b[0mprint\u001b[0m\u001b[0;34m(\u001b[0m\u001b[0mtype\u001b[0m\u001b[0;34m(\u001b[0m\u001b[0mzztest\u001b[0m\u001b[0;34m)\u001b[0m\u001b[0;34m,\u001b[0m \u001b[0mlen\u001b[0m\u001b[0;34m(\u001b[0m\u001b[0mzztest\u001b[0m\u001b[0;34m)\u001b[0m\u001b[0;34m)\u001b[0m\u001b[0;34m\u001b[0m\u001b[0m\n",
      "\u001b[0;31mTypeError\u001b[0m: list indices must be integers or slices, not str"
     ]
    }
   ],
   "source": []
  },
  {
   "cell_type": "code",
   "execution_count": 6,
   "metadata": {},
   "outputs": [
    {
     "ename": "NameError",
     "evalue": "name 'docs' is not defined",
     "output_type": "error",
     "traceback": [
      "\u001b[0;31m\u001b[0m",
      "\u001b[0;31mNameError\u001b[0mTraceback (most recent call last)",
      "\u001b[0;32m<ipython-input-6-f76881ddbf24>\u001b[0m in \u001b[0;36m<module>\u001b[0;34m()\u001b[0m\n\u001b[0;32m----> 1\u001b[0;31m \u001b[0;32mfor\u001b[0m \u001b[0mdoc\u001b[0m \u001b[0;32min\u001b[0m \u001b[0mdocs\u001b[0m\u001b[0;34m:\u001b[0m\u001b[0;34m\u001b[0m\u001b[0m\n\u001b[0m\u001b[1;32m      2\u001b[0m     \u001b[0mprint\u001b[0m\u001b[0;34m(\u001b[0m\u001b[0mdoc\u001b[0m\u001b[0;34m[\u001b[0m\u001b[0;34m'headline'\u001b[0m\u001b[0;34m]\u001b[0m\u001b[0;34m)\u001b[0m \u001b[0;31m#so in order to access a list within a dictionary you need to run a FOR LOOP.\u001b[0m\u001b[0;34m\u001b[0m\u001b[0m\n",
      "\u001b[0;31mNameError\u001b[0m: name 'docs' is not defined"
     ]
    }
   ],
   "source": [
    "for doc in docs:\n",
    "    print(doc['headline']) #so in order to access a list within a dictionary you need to run a FOR LOOP."
   ]
  },
  {
   "cell_type": "markdown",
   "metadata": {},
   "source": [
    "Or if you want to just print the main headlines themselves:"
   ]
  },
  {
   "cell_type": "code",
   "execution_count": 8,
   "metadata": {},
   "outputs": [
    {
     "name": "stdout",
     "output_type": "stream",
     "text": [
      "HIGGINS, SPENT $22,189.53.; Governor-Elect's Election Expenses -- Harrison $9,220.28.\n",
      "\n",
      "\n",
      "GARDEN BOUTS CANCELED; Mauriello Says He Could Not Be Ready on Nov. 3\n",
      "\n",
      "\n",
      "Stock Drop Is Biggest in 2 Months--Margin Rise Held Factor in Lightest Trading of 1955\n",
      "\n",
      "\n",
      "MUSIC OF THE WEEK\n",
      "\n",
      "\n",
      "Anacomp Inc. reports earnings for Qtr to March 31\n",
      "\n",
      "\n",
      "Brooklyn Routs Yeshiva\n",
      "\n",
      "\n",
      "Albuquerque Program Gives Drinkers a Lift\n",
      "\n",
      "\n",
      "Front Page 7 -- No Title\n",
      "\n",
      "\n",
      "UNIONS AND BUILDERS READY FOR LONG FIGHT; None of the Strikers Back - Lock-Out Soon in Effect. 23,000 ALREADY INVOLVED Orders Sent to Every Building Employer Within Twenty-five Miles -- House-smiths Vote Not to Strike.\n",
      "\n",
      "\n"
     ]
    }
   ],
   "source": [
    "for doc in docs:\n",
    "    print(doc['headline']['main'])\n",
    "    print('\\n')"
   ]
  },
  {
   "cell_type": "markdown",
   "metadata": {},
   "source": [
    "## Transforming JSON to Alternative Formats\n",
    "\n",
    "You've also previously started to take a look at how to transform JSON to DataFrames. Investigating the schema, a good option for this could again be the 'docs' subheading. While this still has nested data itself, it's often easierto load the entire section as a dataframe and then use additional functions to break apart the internallt nested data from there."
   ]
  },
  {
   "cell_type": "code",
   "execution_count": 9,
   "metadata": {},
   "outputs": [],
   "source": [
    "import pandas as pd"
   ]
  },
  {
   "cell_type": "code",
   "execution_count": 10,
   "metadata": {},
   "outputs": [
    {
     "data": {
      "text/html": [
       "<div>\n",
       "<style scoped>\n",
       "    .dataframe tbody tr th:only-of-type {\n",
       "        vertical-align: middle;\n",
       "    }\n",
       "\n",
       "    .dataframe tbody tr th {\n",
       "        vertical-align: top;\n",
       "    }\n",
       "\n",
       "    .dataframe thead th {\n",
       "        text-align: right;\n",
       "    }\n",
       "</style>\n",
       "<table border=\"1\" class=\"dataframe\">\n",
       "  <thead>\n",
       "    <tr style=\"text-align: right;\">\n",
       "      <th></th>\n",
       "      <th>_id</th>\n",
       "      <th>abstract</th>\n",
       "      <th>blog</th>\n",
       "      <th>byline</th>\n",
       "      <th>document_type</th>\n",
       "      <th>headline</th>\n",
       "      <th>keywords</th>\n",
       "      <th>multimedia</th>\n",
       "      <th>news_desk</th>\n",
       "      <th>print_page</th>\n",
       "      <th>pub_date</th>\n",
       "      <th>score</th>\n",
       "      <th>snippet</th>\n",
       "      <th>source</th>\n",
       "      <th>type_of_material</th>\n",
       "      <th>web_url</th>\n",
       "      <th>word_count</th>\n",
       "    </tr>\n",
       "  </thead>\n",
       "  <tbody>\n",
       "    <tr>\n",
       "      <th>0</th>\n",
       "      <td>4fc04eb745c1498b0d23da00</td>\n",
       "      <td>Spent $22,200</td>\n",
       "      <td>{}</td>\n",
       "      <td>NaN</td>\n",
       "      <td>article</td>\n",
       "      <td>{'main': 'HIGGINS, SPENT $22,189.53.; Governor...</td>\n",
       "      <td>[{'name': 'persons', 'value': 'HIGGINS, LT. GO...</td>\n",
       "      <td>[]</td>\n",
       "      <td>NaN</td>\n",
       "      <td>2</td>\n",
       "      <td>1904-11-17T00:00:00Z</td>\n",
       "      <td>1</td>\n",
       "      <td>Spent $22,200</td>\n",
       "      <td>The New York Times</td>\n",
       "      <td>Article</td>\n",
       "      <td>https://query.nytimes.com/gst/abstract.html?re...</td>\n",
       "      <td>213</td>\n",
       "    </tr>\n",
       "    <tr>\n",
       "      <th>1</th>\n",
       "      <td>4fc21ebf45c1498b0d612b22</td>\n",
       "      <td>NaN</td>\n",
       "      <td>{}</td>\n",
       "      <td>NaN</td>\n",
       "      <td>article</td>\n",
       "      <td>{'main': 'GARDEN BOUTS CANCELED; Mauriello Say...</td>\n",
       "      <td>[]</td>\n",
       "      <td>[]</td>\n",
       "      <td>NaN</td>\n",
       "      <td>15</td>\n",
       "      <td>1944-10-23T00:00:00Z</td>\n",
       "      <td>1</td>\n",
       "      <td></td>\n",
       "      <td>The New York Times</td>\n",
       "      <td>Article</td>\n",
       "      <td>https://query.nytimes.com/gst/abstract.html?re...</td>\n",
       "      <td>149</td>\n",
       "    </tr>\n",
       "    <tr>\n",
       "      <th>2</th>\n",
       "      <td>4fc3b41d45c1498b0d7fd41e</td>\n",
       "      <td>NaN</td>\n",
       "      <td>{}</td>\n",
       "      <td>{'original': 'By JOHN G. FORREST', 'person': [...</td>\n",
       "      <td>article</td>\n",
       "      <td>{'main': 'Stock Drop Is Biggest in 2 Months--M...</td>\n",
       "      <td>[]</td>\n",
       "      <td>[]</td>\n",
       "      <td>NaN</td>\n",
       "      <td>F1</td>\n",
       "      <td>1955-05-15T00:00:00Z</td>\n",
       "      <td>1</td>\n",
       "      <td>Stock prices last week, on the lightest volume...</td>\n",
       "      <td>The New York Times</td>\n",
       "      <td>Article</td>\n",
       "      <td>https://query.nytimes.com/gst/abstract.html?re...</td>\n",
       "      <td>823</td>\n",
       "    </tr>\n",
       "    <tr>\n",
       "      <th>3</th>\n",
       "      <td>4fc04eb745c1498b0d23da12</td>\n",
       "      <td>Healy, Michael, will suit</td>\n",
       "      <td>{}</td>\n",
       "      <td>NaN</td>\n",
       "      <td>article</td>\n",
       "      <td>{'main': 'MUSIC OF THE WEEK', 'kicker': None, ...</td>\n",
       "      <td>[{'name': 'persons', 'value': 'HEALY, MICHAEL'...</td>\n",
       "      <td>[]</td>\n",
       "      <td>NaN</td>\n",
       "      <td>20</td>\n",
       "      <td>1904-11-06T00:00:00Z</td>\n",
       "      <td>1</td>\n",
       "      <td>The first public rehearsal and concert of the ...</td>\n",
       "      <td>The New York Times</td>\n",
       "      <td>Article</td>\n",
       "      <td>https://query.nytimes.com/gst/abstract.html?re...</td>\n",
       "      <td>2609</td>\n",
       "    </tr>\n",
       "    <tr>\n",
       "      <th>4</th>\n",
       "      <td>4fd1b3018eb7c8105d6d690a</td>\n",
       "      <td>NaN</td>\n",
       "      <td>{}</td>\n",
       "      <td>NaN</td>\n",
       "      <td>article</td>\n",
       "      <td>{'main': 'Anacomp Inc. reports earnings for Qt...</td>\n",
       "      <td>[{'name': 'subject', 'value': 'COMPANY EARNING...</td>\n",
       "      <td>[]</td>\n",
       "      <td>Financial Desk</td>\n",
       "      <td>20</td>\n",
       "      <td>1992-05-06T00:00:00Z</td>\n",
       "      <td>1</td>\n",
       "      <td></td>\n",
       "      <td>The New York Times</td>\n",
       "      <td>Statistics</td>\n",
       "      <td>https://www.nytimes.com/1992/05/06/business/an...</td>\n",
       "      <td>129</td>\n",
       "    </tr>\n",
       "    <tr>\n",
       "      <th>5</th>\n",
       "      <td>4fc47bb045c1498b0da03363</td>\n",
       "      <td>NaN</td>\n",
       "      <td>{}</td>\n",
       "      <td>NaN</td>\n",
       "      <td>article</td>\n",
       "      <td>{'main': 'Brooklyn Routs Yeshiva', 'kicker': '...</td>\n",
       "      <td>[]</td>\n",
       "      <td>[]</td>\n",
       "      <td>NaN</td>\n",
       "      <td>S9</td>\n",
       "      <td>1972-12-24T00:00:00Z</td>\n",
       "      <td>1</td>\n",
       "      <td></td>\n",
       "      <td>The New York Times</td>\n",
       "      <td>Article</td>\n",
       "      <td>https://query.nytimes.com/gst/abstract.html?re...</td>\n",
       "      <td>144</td>\n",
       "    </tr>\n",
       "    <tr>\n",
       "      <th>6</th>\n",
       "      <td>4fc47bb045c1498b0da03367</td>\n",
       "      <td>NaN</td>\n",
       "      <td>{}</td>\n",
       "      <td>{'original': 'Special to The New York Times', ...</td>\n",
       "      <td>article</td>\n",
       "      <td>{'main': 'Albuquerque Program Gives Drinkers a...</td>\n",
       "      <td>[]</td>\n",
       "      <td>[]</td>\n",
       "      <td>NaN</td>\n",
       "      <td>11</td>\n",
       "      <td>1972-12-25T00:00:00Z</td>\n",
       "      <td>1</td>\n",
       "      <td>ALBUQUERQUE, N. M., Dec. 24 -- Holiday drinker...</td>\n",
       "      <td>The New York Times</td>\n",
       "      <td>Article</td>\n",
       "      <td>https://query.nytimes.com/gst/abstract.html?re...</td>\n",
       "      <td>151</td>\n",
       "    </tr>\n",
       "    <tr>\n",
       "      <th>7</th>\n",
       "      <td>4fc21ebf45c1498b0d612b3c</td>\n",
       "      <td>NaN</td>\n",
       "      <td>{}</td>\n",
       "      <td>NaN</td>\n",
       "      <td>article</td>\n",
       "      <td>{'main': 'Front Page 7 -- No Title', 'kicker':...</td>\n",
       "      <td>[]</td>\n",
       "      <td>[]</td>\n",
       "      <td>NaN</td>\n",
       "      <td>1</td>\n",
       "      <td>1944-10-24T00:00:00Z</td>\n",
       "      <td>1</td>\n",
       "      <td></td>\n",
       "      <td>The New York Times</td>\n",
       "      <td>Front Page</td>\n",
       "      <td>https://query.nytimes.com/gst/abstract.html?re...</td>\n",
       "      <td>29</td>\n",
       "    </tr>\n",
       "    <tr>\n",
       "      <th>8</th>\n",
       "      <td>4fc04eb745c1498b0d23da17</td>\n",
       "      <td>housesmiths won't strike</td>\n",
       "      <td>{}</td>\n",
       "      <td>NaN</td>\n",
       "      <td>article</td>\n",
       "      <td>{'main': 'UNIONS AND BUILDERS READY FOR LONG F...</td>\n",
       "      <td>[{'name': 'glocations', 'value': 'NEW YORK CIT...</td>\n",
       "      <td>[]</td>\n",
       "      <td>NaN</td>\n",
       "      <td>1</td>\n",
       "      <td>1904-08-06T00:00:00Z</td>\n",
       "      <td>1</td>\n",
       "      <td>The employers and the unions have lined up in ...</td>\n",
       "      <td>The New York Times</td>\n",
       "      <td>Front Page</td>\n",
       "      <td>https://query.nytimes.com/gst/abstract.html?re...</td>\n",
       "      <td>883</td>\n",
       "    </tr>\n",
       "  </tbody>\n",
       "</table>\n",
       "</div>"
      ],
      "text/plain": [
       "                        _id                   abstract blog  \\\n",
       "0  4fc04eb745c1498b0d23da00              Spent $22,200   {}   \n",
       "1  4fc21ebf45c1498b0d612b22                        NaN   {}   \n",
       "2  4fc3b41d45c1498b0d7fd41e                        NaN   {}   \n",
       "3  4fc04eb745c1498b0d23da12  Healy, Michael, will suit   {}   \n",
       "4  4fd1b3018eb7c8105d6d690a                        NaN   {}   \n",
       "5  4fc47bb045c1498b0da03363                        NaN   {}   \n",
       "6  4fc47bb045c1498b0da03367                        NaN   {}   \n",
       "7  4fc21ebf45c1498b0d612b3c                        NaN   {}   \n",
       "8  4fc04eb745c1498b0d23da17   housesmiths won't strike   {}   \n",
       "\n",
       "                                              byline document_type  \\\n",
       "0                                                NaN       article   \n",
       "1                                                NaN       article   \n",
       "2  {'original': 'By JOHN G. FORREST', 'person': [...       article   \n",
       "3                                                NaN       article   \n",
       "4                                                NaN       article   \n",
       "5                                                NaN       article   \n",
       "6  {'original': 'Special to The New York Times', ...       article   \n",
       "7                                                NaN       article   \n",
       "8                                                NaN       article   \n",
       "\n",
       "                                            headline  \\\n",
       "0  {'main': 'HIGGINS, SPENT $22,189.53.; Governor...   \n",
       "1  {'main': 'GARDEN BOUTS CANCELED; Mauriello Say...   \n",
       "2  {'main': 'Stock Drop Is Biggest in 2 Months--M...   \n",
       "3  {'main': 'MUSIC OF THE WEEK', 'kicker': None, ...   \n",
       "4  {'main': 'Anacomp Inc. reports earnings for Qt...   \n",
       "5  {'main': 'Brooklyn Routs Yeshiva', 'kicker': '...   \n",
       "6  {'main': 'Albuquerque Program Gives Drinkers a...   \n",
       "7  {'main': 'Front Page 7 -- No Title', 'kicker':...   \n",
       "8  {'main': 'UNIONS AND BUILDERS READY FOR LONG F...   \n",
       "\n",
       "                                            keywords multimedia  \\\n",
       "0  [{'name': 'persons', 'value': 'HIGGINS, LT. GO...         []   \n",
       "1                                                 []         []   \n",
       "2                                                 []         []   \n",
       "3  [{'name': 'persons', 'value': 'HEALY, MICHAEL'...         []   \n",
       "4  [{'name': 'subject', 'value': 'COMPANY EARNING...         []   \n",
       "5                                                 []         []   \n",
       "6                                                 []         []   \n",
       "7                                                 []         []   \n",
       "8  [{'name': 'glocations', 'value': 'NEW YORK CIT...         []   \n",
       "\n",
       "        news_desk print_page              pub_date  score  \\\n",
       "0             NaN          2  1904-11-17T00:00:00Z      1   \n",
       "1             NaN         15  1944-10-23T00:00:00Z      1   \n",
       "2             NaN         F1  1955-05-15T00:00:00Z      1   \n",
       "3             NaN         20  1904-11-06T00:00:00Z      1   \n",
       "4  Financial Desk         20  1992-05-06T00:00:00Z      1   \n",
       "5             NaN         S9  1972-12-24T00:00:00Z      1   \n",
       "6             NaN         11  1972-12-25T00:00:00Z      1   \n",
       "7             NaN          1  1944-10-24T00:00:00Z      1   \n",
       "8             NaN          1  1904-08-06T00:00:00Z      1   \n",
       "\n",
       "                                             snippet              source  \\\n",
       "0                                      Spent $22,200  The New York Times   \n",
       "1                                                     The New York Times   \n",
       "2  Stock prices last week, on the lightest volume...  The New York Times   \n",
       "3  The first public rehearsal and concert of the ...  The New York Times   \n",
       "4                                                     The New York Times   \n",
       "5                                                     The New York Times   \n",
       "6  ALBUQUERQUE, N. M., Dec. 24 -- Holiday drinker...  The New York Times   \n",
       "7                                                     The New York Times   \n",
       "8  The employers and the unions have lined up in ...  The New York Times   \n",
       "\n",
       "  type_of_material                                            web_url  \\\n",
       "0          Article  https://query.nytimes.com/gst/abstract.html?re...   \n",
       "1          Article  https://query.nytimes.com/gst/abstract.html?re...   \n",
       "2          Article  https://query.nytimes.com/gst/abstract.html?re...   \n",
       "3          Article  https://query.nytimes.com/gst/abstract.html?re...   \n",
       "4       Statistics  https://www.nytimes.com/1992/05/06/business/an...   \n",
       "5          Article  https://query.nytimes.com/gst/abstract.html?re...   \n",
       "6          Article  https://query.nytimes.com/gst/abstract.html?re...   \n",
       "7       Front Page  https://query.nytimes.com/gst/abstract.html?re...   \n",
       "8       Front Page  https://query.nytimes.com/gst/abstract.html?re...   \n",
       "\n",
       "   word_count  \n",
       "0         213  \n",
       "1         149  \n",
       "2         823  \n",
       "3        2609  \n",
       "4         129  \n",
       "5         144  \n",
       "6         151  \n",
       "7          29  \n",
       "8         883  "
      ]
     },
     "execution_count": 10,
     "metadata": {},
     "output_type": "execute_result"
    }
   ],
   "source": [
    "df = pd.DataFrame(data['response']['docs'])\n",
    "df.head(100)"
   ]
  },
  {
   "cell_type": "markdown",
   "metadata": {},
   "source": [
    "## Breaking out nested data\n",
    "\n",
    "Now that you have the data loaded, it's time to clean it up by breaking out some of the nested data. For example, you should notice that the headline entries are actualy dictionaries. You could transform these into singular data columns with something like this:"
   ]
  },
  {
   "cell_type": "code",
   "execution_count": 12,
   "metadata": {},
   "outputs": [
    {
     "data": {
      "text/html": [
       "<div>\n",
       "<style scoped>\n",
       "    .dataframe tbody tr th:only-of-type {\n",
       "        vertical-align: middle;\n",
       "    }\n",
       "\n",
       "    .dataframe tbody tr th {\n",
       "        vertical-align: top;\n",
       "    }\n",
       "\n",
       "    .dataframe thead th {\n",
       "        text-align: right;\n",
       "    }\n",
       "</style>\n",
       "<table border=\"1\" class=\"dataframe\">\n",
       "  <thead>\n",
       "    <tr style=\"text-align: right;\">\n",
       "      <th></th>\n",
       "      <th>headline_main</th>\n",
       "      <th>headline_kicker</th>\n",
       "      <th>headline_content_kicker</th>\n",
       "      <th>headline_print_headline</th>\n",
       "      <th>headline_name</th>\n",
       "      <th>headline_seo</th>\n",
       "      <th>headline_sub</th>\n",
       "    </tr>\n",
       "  </thead>\n",
       "  <tbody>\n",
       "    <tr>\n",
       "      <th>0</th>\n",
       "      <td>HIGGINS, SPENT $22,189.53.; Governor-Elect's E...</td>\n",
       "      <td>None</td>\n",
       "      <td>None</td>\n",
       "      <td>None</td>\n",
       "      <td>None</td>\n",
       "      <td>None</td>\n",
       "      <td>None</td>\n",
       "    </tr>\n",
       "    <tr>\n",
       "      <th>1</th>\n",
       "      <td>GARDEN BOUTS CANCELED; Mauriello Says He Could...</td>\n",
       "      <td>1</td>\n",
       "      <td>None</td>\n",
       "      <td>None</td>\n",
       "      <td>None</td>\n",
       "      <td>None</td>\n",
       "      <td>None</td>\n",
       "    </tr>\n",
       "    <tr>\n",
       "      <th>2</th>\n",
       "      <td>Stock Drop Is Biggest in 2 Months--Margin Rise...</td>\n",
       "      <td>1</td>\n",
       "      <td>None</td>\n",
       "      <td>None</td>\n",
       "      <td>None</td>\n",
       "      <td>None</td>\n",
       "      <td>None</td>\n",
       "    </tr>\n",
       "    <tr>\n",
       "      <th>3</th>\n",
       "      <td>MUSIC OF THE WEEK</td>\n",
       "      <td>None</td>\n",
       "      <td>None</td>\n",
       "      <td>None</td>\n",
       "      <td>None</td>\n",
       "      <td>None</td>\n",
       "      <td>None</td>\n",
       "    </tr>\n",
       "    <tr>\n",
       "      <th>4</th>\n",
       "      <td>Anacomp Inc. reports earnings for Qtr to March 31</td>\n",
       "      <td>None</td>\n",
       "      <td>None</td>\n",
       "      <td>None</td>\n",
       "      <td>None</td>\n",
       "      <td>None</td>\n",
       "      <td>None</td>\n",
       "    </tr>\n",
       "  </tbody>\n",
       "</table>\n",
       "</div>"
      ],
      "text/plain": [
       "                                       headline_main headline_kicker  \\\n",
       "0  HIGGINS, SPENT $22,189.53.; Governor-Elect's E...            None   \n",
       "1  GARDEN BOUTS CANCELED; Mauriello Says He Could...               1   \n",
       "2  Stock Drop Is Biggest in 2 Months--Margin Rise...               1   \n",
       "3                                  MUSIC OF THE WEEK            None   \n",
       "4  Anacomp Inc. reports earnings for Qtr to March 31            None   \n",
       "\n",
       "  headline_content_kicker headline_print_headline headline_name headline_seo  \\\n",
       "0                    None                    None          None         None   \n",
       "1                    None                    None          None         None   \n",
       "2                    None                    None          None         None   \n",
       "3                    None                    None          None         None   \n",
       "4                    None                    None          None         None   \n",
       "\n",
       "  headline_sub  \n",
       "0         None  \n",
       "1         None  \n",
       "2         None  \n",
       "3         None  \n",
       "4         None  "
      ]
     },
     "execution_count": 12,
     "metadata": {},
     "output_type": "execute_result"
    }
   ],
   "source": [
    "keys = df.headline.iloc[0].keys() #Get dictionary keys\n",
    "#Keep track of columns we make for subsequent preview\n",
    "new_cols = []\n",
    "#Create a new feature for each of these keys\n",
    "for key in keys:\n",
    "    new_col = 'headline_{}'.format(key) #Create new column name\n",
    "    df[new_col] = df.headline.map(lambda x: x[key]) #Create a new column\n",
    "    new_cols.append(new_col)\n",
    "df[new_cols].head()"
   ]
  },
  {
   "cell_type": "code",
   "execution_count": 13,
   "metadata": {},
   "outputs": [
    {
     "data": {
      "text/plain": [
       "dict_keys(['main', 'kicker', 'content_kicker', 'print_headline', 'name', 'seo', 'sub'])"
      ]
     },
     "execution_count": 13,
     "metadata": {},
     "output_type": "execute_result"
    }
   ],
   "source": [
    "keys"
   ]
  },
  {
   "cell_type": "markdown",
   "metadata": {},
   "source": [
    "Wahoo! This is a good general strategy for transforming nested JSON: create a DataFrame and then break out nested features into their own column features."
   ]
  },
  {
   "cell_type": "markdown",
   "metadata": {},
   "source": [
    "## Outputing to JSON\n",
    "\n",
    "Finally, take a look at how you can write data back to JSON. Like loading, you first open a file (this time with write permission) and use the json package to transfer data to that file container."
   ]
  },
  {
   "cell_type": "code",
   "execution_count": 14,
   "metadata": {},
   "outputs": [],
   "source": [
    "with open('output.json', 'w') as f:\n",
    "    json.dump(data, f)"
   ]
  },
  {
   "cell_type": "markdown",
   "metadata": {},
   "source": [
    "## Summary\n",
    "There you have it! In this, you took another look at JSON, taking a look at an example schema diagram and retrieving information. You also looked at a general procedure for transforming nested data to Pandas DataFrames (create a DataFrame, and then break apart nested data using lambda functions to create additional columns). Finally, you also took a brief look at saving data to json files. "
   ]
  }
 ],
 "metadata": {
  "kernelspec": {
   "display_name": "Python 3",
   "language": "python",
   "name": "python3"
  },
  "language_info": {
   "codemirror_mode": {
    "name": "ipython",
    "version": 3
   },
   "file_extension": ".py",
   "mimetype": "text/x-python",
   "name": "python",
   "nbconvert_exporter": "python",
   "pygments_lexer": "ipython3",
   "version": "3.6.6"
  }
 },
 "nbformat": 4,
 "nbformat_minor": 2
}
